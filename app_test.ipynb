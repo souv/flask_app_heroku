{
    "cells": [
        {
            "cell_type": "code",
            "execution_count": 5,
            "source": [
                "from flask_sqlalchemy import SQLAlchemy\n",
                "from flask import Flask, render_template, request\n",
                "import pandas as pd \n",
                "app = Flask(__name__)\n",
                "df = pd.read_csv('base.csv')\n",
                "df = df.head(5)\n",
                "\n",
                "colnames = ['datetime','coin_name','coin_price']\n",
                "\n",
                "@app.route('/login',methods=['POST','GET'])\n",
                "def main():\n",
                "\treturn render_template('result.html',  tables=[df.to_html(classes='data')], titles=df.columns.values)\n",
                "\n",
                "if __name__ == \"__main__\":\n",
                "    app.run()\n"
            ],
            "outputs": [
                {
                    "output_type": "stream",
                    "name": "stdout",
                    "text": [
                        " * Serving Flask app \"__main__\" (lazy loading)\n",
                        " * Environment: production\n",
                        "\u001b[31m   WARNING: This is a development server. Do not use it in a production deployment.\u001b[0m\n",
                        "\u001b[2m   Use a production WSGI server instead.\u001b[0m\n",
                        " * Debug mode: off\n"
                    ]
                },
                {
                    "output_type": "stream",
                    "name": "stderr",
                    "text": [
                        " * Running on http://127.0.0.1:5000/ (Press CTRL+C to quit)\n",
                        "127.0.0.1 - - [27/Dec/2021 13:54:24] \"\u001b[33mGET / HTTP/1.1\u001b[0m\" 404 -\n",
                        "127.0.0.1 - - [27/Dec/2021 13:54:26] \"\u001b[33mGET / HTTP/1.1\u001b[0m\" 404 -\n",
                        "127.0.0.1 - - [27/Dec/2021 13:54:28] \"\u001b[33mGET / HTTP/1.1\u001b[0m\" 404 -\n",
                        "127.0.0.1 - - [27/Dec/2021 13:54:45] \"\u001b[37mGET /login HTTP/1.1\u001b[0m\" 200 -\n"
                    ]
                }
            ],
            "metadata": {}
        }
    ],
    "metadata": {
        "orig_nbformat": 4,
        "language_info": {
            "name": "python",
            "version": "3.8.5",
            "mimetype": "text/x-python",
            "codemirror_mode": {
                "name": "ipython",
                "version": 3
            },
            "pygments_lexer": "ipython3",
            "nbconvert_exporter": "python",
            "file_extension": ".py"
        },
        "kernelspec": {
            "name": "python3",
            "display_name": "Python 3.8.5 64-bit ('base': conda)"
        },
        "interpreter": {
            "hash": "dca0ade3e726a953b501b15e8e990130d2b7799f14cfd9f4271676035ebe5511"
        }
    },
    "nbformat": 4,
    "nbformat_minor": 2
}